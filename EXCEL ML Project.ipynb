{
 "cells": [
  {
   "cell_type": "code",
   "execution_count": 1,
   "id": "e04d7266",
   "metadata": {},
   "outputs": [],
   "source": [
    "import openpyxl as xl\n",
    "from openpyxl.chart import BarChart, Reference"
   ]
  },
  {
   "cell_type": "code",
   "execution_count": 4,
   "id": "5be9224d",
   "metadata": {},
   "outputs": [],
   "source": [
    "def process_xlsheet(filename):\n",
    "    wb = xl.load_workbook(filename)\n",
    "    \n",
    "#   Name the sheet that you want to do corrections in.   \n",
    "    sheet = wb[\"Sheet1\"]\n",
    "\n",
    "    for row in range(2, sheet.max_row + 1):\n",
    "        cell = sheet.cell(row, 3)\n",
    "        correct_price = cell.value * 0.9\n",
    "        correct_price_cell = sheet.cell(row, 4)\n",
    "        correct_price_cell.value = correct_price\n",
    "        \n",
    "#     here i want to do corrections only in column no. 4 and all rows\n",
    "    value = Reference(sheet,\n",
    "                     min_row=2,\n",
    "                     max_row=sheet.max_row,\n",
    "                     min_col=4,\n",
    "                     max_col=4)\n",
    "    chart = BarChart()\n",
    "    chart.add_data(value)\n",
    "    sheet.add_chart(chart, \"e2\")\n",
    "\n",
    "\n",
    "    wb.save(filename)\n"
   ]
  },
  {
   "cell_type": "code",
   "execution_count": null,
   "id": "15ab7c0e",
   "metadata": {},
   "outputs": [],
   "source": []
  }
 ],
 "metadata": {
  "kernelspec": {
   "display_name": "Python 3 (ipykernel)",
   "language": "python",
   "name": "python3"
  },
  "language_info": {
   "codemirror_mode": {
    "name": "ipython",
    "version": 3
   },
   "file_extension": ".py",
   "mimetype": "text/x-python",
   "name": "python",
   "nbconvert_exporter": "python",
   "pygments_lexer": "ipython3",
   "version": "3.9.12"
  }
 },
 "nbformat": 4,
 "nbformat_minor": 5
}
